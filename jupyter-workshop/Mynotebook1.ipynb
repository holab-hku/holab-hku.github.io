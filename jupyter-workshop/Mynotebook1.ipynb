{
 "cells": [
  {
   "cell_type": "markdown",
   "id": "c5bf4ff4",
   "metadata": {},
   "source": [
    "# Markdown：\n",
    "\n",
    "## Different size of Headings\n",
    "Markdown headings consist of 1 to 6 hash # signs followed by a space and the title of your section. "
   ]
  },
  {
   "cell_type": "markdown",
   "id": "90f83bfd",
   "metadata": {},
   "source": [
    "# Headind1"
   ]
  },
  {
   "cell_type": "markdown",
   "id": "41011306",
   "metadata": {},
   "source": [
    "## Heading2"
   ]
  },
  {
   "cell_type": "markdown",
   "id": "311f1ca6",
   "metadata": {},
   "source": [
    "### Heading3"
   ]
  },
  {
   "cell_type": "markdown",
   "id": "72ce08b9",
   "metadata": {},
   "source": [
    "#### Heading4"
   ]
  },
  {
   "cell_type": "markdown",
   "id": "cc594825",
   "metadata": {},
   "source": [
    "##### Heading5"
   ]
  },
  {
   "cell_type": "markdown",
   "id": "dbe0da88",
   "metadata": {},
   "source": [
    "###### Heading6"
   ]
  },
  {
   "cell_type": "markdown",
   "id": "5acd0b9d",
   "metadata": {},
   "source": [
    "## Display mathematics\n",
    "Within Markdown cells, you can also include mathematics in a straightforward way, using standard LaTeX notation."
   ]
  },
  {
   "cell_type": "markdown",
   "id": "70963c2b",
   "metadata": {},
   "source": [
    "$x^2 + y^2 = z^2$"
   ]
  },
  {
   "cell_type": "markdown",
   "id": "7f76cdd1",
   "metadata": {},
   "source": [
    "$$x^2 + y^2 = z^2$$"
   ]
  },
  {
   "cell_type": "markdown",
   "id": "35d11fe3",
   "metadata": {},
   "source": [
    "# Code：\n",
    "\n",
    "## Try a simple python game"
   ]
  },
  {
   "cell_type": "code",
   "execution_count": 30,
   "id": "218d0d9d",
   "metadata": {},
   "outputs": [
    {
     "name": "stdout",
     "output_type": "stream",
     "text": [
      "Hello, Let's play a game! You will have 10 turns!\n",
      "\n",
      "_\n",
      "_\n",
      "_\n",
      "_\n",
      "_\n",
      "_\n",
      "\n",
      "\n",
      "Guess a character or enter the correct word: a\n",
      "Wrong\n",
      "You have 9  turns left!\n",
      "_\n",
      "_\n",
      "_\n",
      "_\n",
      "_\n",
      "_\n",
      "\n",
      "\n",
      "Guess a character or enter the correct word: o\n",
      "_\n",
      "_\n",
      "_\n",
      "_\n",
      "o\n",
      "_\n",
      "\n",
      "\n",
      "Guess a character or enter the correct word: o\n",
      "_\n",
      "_\n",
      "_\n",
      "_\n",
      "o\n",
      "_\n",
      "\n",
      "\n",
      "Guess a character or enter the correct word: p\n",
      "p\n",
      "_\n",
      "_\n",
      "_\n",
      "o\n",
      "_\n",
      "\n",
      "\n",
      "Guess a character or enter the correct word: y\n",
      "p\n",
      "y\n",
      "_\n",
      "_\n",
      "o\n",
      "_\n",
      "\n",
      "\n",
      "Guess a character or enter the correct word: t\n",
      "p\n",
      "y\n",
      "t\n",
      "_\n",
      "o\n",
      "_\n",
      "\n",
      "\n",
      "Guess a character or enter the correct word: h\n",
      "p\n",
      "y\n",
      "t\n",
      "h\n",
      "o\n",
      "_\n",
      "\n",
      "\n",
      "Guess a character or enter the correct word: n\n",
      "p\n",
      "y\n",
      "t\n",
      "h\n",
      "o\n",
      "n\n",
      "\n",
      "\n",
      "You won :)\n"
     ]
    }
   ],
   "source": [
    "import time\n",
    "import random\n",
    "\n",
    "turns = 10\n",
    "\n",
    "print(\"Hello, Let's play a game! You will have \" + str(turns) + \" turns!\")\n",
    "\n",
    "print(\"\")\n",
    "\n",
    "# delay\n",
    "time.sleep(0.5)\n",
    "\n",
    "# set of words to guess from\n",
    "wordList = [\"python\"]\n",
    "word = random.choice(wordList)\n",
    "\n",
    "guesses = ''\n",
    "\n",
    "# loop till no turns are remaining\n",
    "while turns > 0:         \n",
    "    wrong = 0             \n",
    "\n",
    "    for char in word:      \n",
    "        if char in guesses:    \n",
    "            print(char),    \n",
    "        else:\n",
    "            print(\"_\"),     \n",
    "            wrong += 1    \n",
    "\n",
    "    print(\"\\n\")\n",
    "\n",
    "    if wrong == 0:        \n",
    "        print(\"You won :)\")  \n",
    "\n",
    "        break              \n",
    "\n",
    "    print\n",
    "\n",
    "    guess = ''\n",
    "    if len(guess) < 1:\n",
    "        guess = input(\"Guess a character or enter the correct word: \")[0]\n",
    "\n",
    "    guesses += guess                    \n",
    "\n",
    "    if guess not in word:  \n",
    "        turns -= 1        \n",
    " \n",
    "        print(\"Wrong\")\n",
    " \n",
    "        print(\"You have\", + turns, ' turns left!' )\n",
    " \n",
    "        if turns == 0:           \n",
    "    \n",
    "            print(\"You Lose :(\")"
   ]
  },
  {
   "cell_type": "code",
   "execution_count": null,
   "id": "c389f86a",
   "metadata": {},
   "outputs": [],
   "source": []
  }
 ],
 "metadata": {
  "kernelspec": {
   "display_name": "Python 3",
   "language": "python",
   "name": "python3"
  },
  "language_info": {
   "codemirror_mode": {
    "name": "ipython",
    "version": 3
   },
   "file_extension": ".py",
   "mimetype": "text/x-python",
   "name": "python",
   "nbconvert_exporter": "python",
   "pygments_lexer": "ipython3",
   "version": "3.7.0"
  },
  "varInspector": {
   "cols": {
    "lenName": 16,
    "lenType": 16,
    "lenVar": 40
   },
   "kernels_config": {
    "python": {
     "delete_cmd_postfix": "",
     "delete_cmd_prefix": "del ",
     "library": "var_list.py",
     "varRefreshCmd": "print(var_dic_list())"
    },
    "r": {
     "delete_cmd_postfix": ") ",
     "delete_cmd_prefix": "rm(",
     "library": "var_list.r",
     "varRefreshCmd": "cat(var_dic_list()) "
    }
   },
   "types_to_exclude": [
    "module",
    "function",
    "builtin_function_or_method",
    "instance",
    "_Feature"
   ],
   "window_display": false
  }
 },
 "nbformat": 4,
 "nbformat_minor": 5
}
